{
 "cells": [
  {
   "cell_type": "markdown",
   "metadata": {},
   "source": [
    "# Achieving Gross Margin\n",
    "\n",
    "This notebook explores US Software companies, speficially their gross margins and what contributes it. It forms the [analysis for this blog post](https://jamesmalcolm.me/posts/achieving-gross-margin/).\n",
    "\n",
    "It starts by plotting the spread of Gross Margin across the sector. I then plot Gross Margin against 52 Stock price gain to see if there is any correlation.\n",
    "\n",
    "Later, I plot against Sales and Marketing expenditure to see if there's any relationship."
   ]
  },
  {
   "cell_type": "code",
   "execution_count": 111,
   "metadata": {},
   "outputs": [],
   "source": [
    "import pandas as pd\n",
    "import numpy as np\n",
    "import quandl\n",
    "import os\n",
    "\n",
    "import matplotlib.pyplot as plt\n",
    "import seaborn as sns"
   ]
  },
  {
   "cell_type": "code",
   "execution_count": 180,
   "metadata": {},
   "outputs": [],
   "source": [
    "# Define plotting style for the blog\n",
    "rc = {\n",
    "    'axes.axisbelow': True,\n",
    "    'axes.edgecolor': '#FCFCFC',\n",
    "    'axes.facecolor': '#3B424D',\n",
    "    'figure.facecolor': '#3B424D',\n",
    "    # 'axes.grid': True,\n",
    "    'axes.labelcolor': '#FCFCFC',\n",
    "    'axes.linewidth': 2,\n",
    "    'font.family': 'Arial',\n",
    "    'grid.color': '#C7CCDB',\n",
    "    'grid.linestyle': '-',\n",
    "    'legend.frameon': False,\n",
    "    'legend.numpoints': 1,\n",
    "    'legend.scatterpoints': 1,\n",
    "    'lines.solid_capstyle': 'round',\n",
    "    'pdf.fonttype': 42,\n",
    "    'text.color': '#FCFCFC',\n",
    "    'xtick.color': '#FCFCFC',\n",
    "    'xtick.direction': 'out',\n",
    "    'xtick.major.size': 1,\n",
    "    'xtick.minor.size': 1,\n",
    "    'ytick.color': '#FCFCFC',\n",
    "    'ytick.direction': 'out',\n",
    "    'ytick.major.size': 1,\n",
    "    'ytick.minor.size': 1,\n",
    "}\n",
    "sns.set(context='notebook',\n",
    "       rc=rc)"
   ]
  },
  {
   "cell_type": "code",
   "execution_count": 16,
   "metadata": {},
   "outputs": [
    {
     "name": "stderr",
     "output_type": "stream",
     "text": [
      "/Users/james.malcolm/anaconda3/envs/taxis/lib/python3.6/site-packages/quandl/get_table.py:38: UserWarning: To request more pages, please set paginate=True in your         quandl.get_table() call. For more information see our documentation:         https://github.com/quandl/quandl-python/blob/master/FOR_ANALYSTS.md#things-to-note\n",
      "  warnings.warn(Message.WARN_PAGE_LIMIT_EXCEEDED, UserWarning)\n"
     ]
    }
   ],
   "source": [
    "tickers = quandl.get_table('SHARADAR/TICKERS')"
   ]
  },
  {
   "cell_type": "code",
   "execution_count": 17,
   "metadata": {},
   "outputs": [],
   "source": [
    "# Filter tickers to be US software and convert to list\n",
    "softwares = tickers[(tickers['industry'] == 'Software - Application') & (tickers['isdelisted'] == 'N')]\n",
    "ticker_list = np.unique(softwares.ticker).tolist()"
   ]
  },
  {
   "cell_type": "code",
   "execution_count": 19,
   "metadata": {},
   "outputs": [],
   "source": [
    "raw = quandl.get_table('SHARADAR/SF1', ticker=ticker_list)"
   ]
  },
  {
   "cell_type": "code",
   "execution_count": 49,
   "metadata": {},
   "outputs": [],
   "source": [
    "data_19 = raw[(raw['dimension'] == 'ARY') & (raw['reportperiod'].dt.year == 2019)]\n",
    "data_18 = raw[(raw['dimension'] == 'ARY') & (raw['reportperiod'].dt.year == 2018)]"
   ]
  },
  {
   "cell_type": "code",
   "execution_count": 50,
   "metadata": {},
   "outputs": [],
   "source": [
    "joined = data_19.merge(data_18, on='ticker', how='inner')"
   ]
  },
  {
   "cell_type": "code",
   "execution_count": 51,
   "metadata": {},
   "outputs": [],
   "source": [
    "joined['52_week_gain'] = (joined['price_x'] - joined['price_y']) / joined['price_y']"
   ]
  },
  {
   "cell_type": "code",
   "execution_count": 52,
   "metadata": {},
   "outputs": [],
   "source": [
    "joined['rev_gain'] = joined['revenue_x'] - joined['revenue_y']\n",
    "joined['rev_gain_percent'] = (joined['revenue_x'] - joined['revenue_y']) / joined['revenue_y']"
   ]
  },
  {
   "cell_type": "code",
   "execution_count": 53,
   "metadata": {},
   "outputs": [
    {
     "data": {
      "text/html": [
       "<div>\n",
       "<style scoped>\n",
       "    .dataframe tbody tr th:only-of-type {\n",
       "        vertical-align: middle;\n",
       "    }\n",
       "\n",
       "    .dataframe tbody tr th {\n",
       "        vertical-align: top;\n",
       "    }\n",
       "\n",
       "    .dataframe thead th {\n",
       "        text-align: right;\n",
       "    }\n",
       "</style>\n",
       "<table border=\"1\" class=\"dataframe\">\n",
       "  <thead>\n",
       "    <tr style=\"text-align: right;\">\n",
       "      <th></th>\n",
       "      <th>ticker</th>\n",
       "      <th>dimension_x</th>\n",
       "      <th>calendardate_x</th>\n",
       "      <th>datekey_x</th>\n",
       "      <th>reportperiod_x</th>\n",
       "      <th>lastupdated_x</th>\n",
       "      <th>accoci_x</th>\n",
       "      <th>assets_x</th>\n",
       "      <th>assetsavg_x</th>\n",
       "      <th>assetsc_x</th>\n",
       "      <th>...</th>\n",
       "      <th>sps_y</th>\n",
       "      <th>tangibles_y</th>\n",
       "      <th>taxassets_y</th>\n",
       "      <th>taxexp_y</th>\n",
       "      <th>taxliabilities_y</th>\n",
       "      <th>tbvps_y</th>\n",
       "      <th>workingcapital_y</th>\n",
       "      <th>52_week_gain</th>\n",
       "      <th>rev_gain</th>\n",
       "      <th>rev_gain_percent</th>\n",
       "    </tr>\n",
       "  </thead>\n",
       "  <tbody>\n",
       "    <tr>\n",
       "      <th>0</th>\n",
       "      <td>PEGA</td>\n",
       "      <td>ARY</td>\n",
       "      <td>2019-12-31</td>\n",
       "      <td>2020-02-12</td>\n",
       "      <td>2019-12-31</td>\n",
       "      <td>2020-02-13</td>\n",
       "      <td>-13228000.0</td>\n",
       "      <td>9.848120e+08</td>\n",
       "      <td>9.497530e+08</td>\n",
       "      <td>5.056100e+08</td>\n",
       "      <td>...</td>\n",
       "      <td>11.348</td>\n",
       "      <td>9.096950e+08</td>\n",
       "      <td>0.000000e+00</td>\n",
       "      <td>-22160000.0</td>\n",
       "      <td>6939000.0</td>\n",
       "      <td>11.579</td>\n",
       "      <td>278826000.0</td>\n",
       "      <td>0.527937</td>\n",
       "      <td>19802000.0</td>\n",
       "      <td>0.022210</td>\n",
       "    </tr>\n",
       "    <tr>\n",
       "      <th>1</th>\n",
       "      <td>PCYG</td>\n",
       "      <td>ARY</td>\n",
       "      <td>2019-12-31</td>\n",
       "      <td>2019-09-12</td>\n",
       "      <td>2019-06-30</td>\n",
       "      <td>2020-02-11</td>\n",
       "      <td>0.0</td>\n",
       "      <td>5.294054e+07</td>\n",
       "      <td>5.199498e+07</td>\n",
       "      <td>2.654887e+07</td>\n",
       "      <td>...</td>\n",
       "      <td>1.125</td>\n",
       "      <td>2.732096e+07</td>\n",
       "      <td>0.000000e+00</td>\n",
       "      <td>105395.0</td>\n",
       "      <td>0.0</td>\n",
       "      <td>1.395</td>\n",
       "      <td>15743569.0</td>\n",
       "      <td>-0.159341</td>\n",
       "      <td>-866670.0</td>\n",
       "      <td>-0.039329</td>\n",
       "    </tr>\n",
       "    <tr>\n",
       "      <th>2</th>\n",
       "      <td>PCTY</td>\n",
       "      <td>ARY</td>\n",
       "      <td>2019-12-31</td>\n",
       "      <td>2019-08-09</td>\n",
       "      <td>2019-06-30</td>\n",
       "      <td>2020-02-05</td>\n",
       "      <td>112000.0</td>\n",
       "      <td>1.803941e+09</td>\n",
       "      <td>1.735848e+09</td>\n",
       "      <td>1.596189e+09</td>\n",
       "      <td>...</td>\n",
       "      <td>7.201</td>\n",
       "      <td>1.463913e+09</td>\n",
       "      <td>2.214000e+07</td>\n",
       "      <td>-21847000.0</td>\n",
       "      <td>0.0</td>\n",
       "      <td>27.924</td>\n",
       "      <td>107395000.0</td>\n",
       "      <td>0.635772</td>\n",
       "      <td>90106000.0</td>\n",
       "      <td>0.238674</td>\n",
       "    </tr>\n",
       "    <tr>\n",
       "      <th>3</th>\n",
       "      <td>PAYC</td>\n",
       "      <td>ARY</td>\n",
       "      <td>2019-12-31</td>\n",
       "      <td>2020-02-13</td>\n",
       "      <td>2019-12-31</td>\n",
       "      <td>2020-02-14</td>\n",
       "      <td>0.0</td>\n",
       "      <td>2.486917e+09</td>\n",
       "      <td>1.991991e+09</td>\n",
       "      <td>1.871100e+09</td>\n",
       "      <td>...</td>\n",
       "      <td>9.813</td>\n",
       "      <td>1.469292e+09</td>\n",
       "      <td>3.962000e+06</td>\n",
       "      <td>37646000.0</td>\n",
       "      <td>70206000.0</td>\n",
       "      <td>25.459</td>\n",
       "      <td>35940000.0</td>\n",
       "      <td>0.700247</td>\n",
       "      <td>171335000.0</td>\n",
       "      <td>0.302532</td>\n",
       "    </tr>\n",
       "    <tr>\n",
       "      <th>4</th>\n",
       "      <td>OTEX</td>\n",
       "      <td>ARY</td>\n",
       "      <td>2019-12-31</td>\n",
       "      <td>2019-08-01</td>\n",
       "      <td>2019-06-30</td>\n",
       "      <td>2020-01-30</td>\n",
       "      <td>24124000.0</td>\n",
       "      <td>7.933975e+09</td>\n",
       "      <td>7.786766e+09</td>\n",
       "      <td>1.561328e+09</td>\n",
       "      <td>...</td>\n",
       "      <td>10.580</td>\n",
       "      <td>2.888263e+09</td>\n",
       "      <td>1.202834e+09</td>\n",
       "      <td>143826000.0</td>\n",
       "      <td>290413000.0</td>\n",
       "      <td>10.855</td>\n",
       "      <td>332981000.0</td>\n",
       "      <td>0.122881</td>\n",
       "      <td>53514000.0</td>\n",
       "      <td>0.019009</td>\n",
       "    </tr>\n",
       "  </tbody>\n",
       "</table>\n",
       "<p>5 rows × 224 columns</p>\n",
       "</div>"
      ],
      "text/plain": [
       "  ticker dimension_x calendardate_x  datekey_x reportperiod_x lastupdated_x  \\\n",
       "0   PEGA         ARY     2019-12-31 2020-02-12     2019-12-31    2020-02-13   \n",
       "1   PCYG         ARY     2019-12-31 2019-09-12     2019-06-30    2020-02-11   \n",
       "2   PCTY         ARY     2019-12-31 2019-08-09     2019-06-30    2020-02-05   \n",
       "3   PAYC         ARY     2019-12-31 2020-02-13     2019-12-31    2020-02-14   \n",
       "4   OTEX         ARY     2019-12-31 2019-08-01     2019-06-30    2020-01-30   \n",
       "\n",
       "     accoci_x      assets_x   assetsavg_x     assetsc_x  ...   sps_y  \\\n",
       "0 -13228000.0  9.848120e+08  9.497530e+08  5.056100e+08  ...  11.348   \n",
       "1         0.0  5.294054e+07  5.199498e+07  2.654887e+07  ...   1.125   \n",
       "2    112000.0  1.803941e+09  1.735848e+09  1.596189e+09  ...   7.201   \n",
       "3         0.0  2.486917e+09  1.991991e+09  1.871100e+09  ...   9.813   \n",
       "4  24124000.0  7.933975e+09  7.786766e+09  1.561328e+09  ...  10.580   \n",
       "\n",
       "    tangibles_y   taxassets_y     taxexp_y  taxliabilities_y  tbvps_y  \\\n",
       "0  9.096950e+08  0.000000e+00  -22160000.0         6939000.0   11.579   \n",
       "1  2.732096e+07  0.000000e+00     105395.0               0.0    1.395   \n",
       "2  1.463913e+09  2.214000e+07  -21847000.0               0.0   27.924   \n",
       "3  1.469292e+09  3.962000e+06   37646000.0        70206000.0   25.459   \n",
       "4  2.888263e+09  1.202834e+09  143826000.0       290413000.0   10.855   \n",
       "\n",
       "   workingcapital_y  52_week_gain     rev_gain  rev_gain_percent  \n",
       "0       278826000.0      0.527937   19802000.0          0.022210  \n",
       "1        15743569.0     -0.159341    -866670.0         -0.039329  \n",
       "2       107395000.0      0.635772   90106000.0          0.238674  \n",
       "3        35940000.0      0.700247  171335000.0          0.302532  \n",
       "4       332981000.0      0.122881   53514000.0          0.019009  \n",
       "\n",
       "[5 rows x 224 columns]"
      ]
     },
     "execution_count": 53,
     "metadata": {},
     "output_type": "execute_result"
    }
   ],
   "source": [
    "joined.head()"
   ]
  },
  {
   "cell_type": "code",
   "execution_count": 54,
   "metadata": {},
   "outputs": [],
   "source": [
    "data = joined[joined.columns.drop(list(joined.filter(regex='_y')))]\n",
    "cols = [col[:-2] for col in data.columns]\n",
    "data.columns = cols"
   ]
  },
  {
   "cell_type": "code",
   "execution_count": 55,
   "metadata": {},
   "outputs": [
    {
     "data": {
      "text/html": [
       "<div>\n",
       "<style scoped>\n",
       "    .dataframe tbody tr th:only-of-type {\n",
       "        vertical-align: middle;\n",
       "    }\n",
       "\n",
       "    .dataframe tbody tr th {\n",
       "        vertical-align: top;\n",
       "    }\n",
       "\n",
       "    .dataframe thead th {\n",
       "        text-align: right;\n",
       "    }\n",
       "</style>\n",
       "<table border=\"1\" class=\"dataframe\">\n",
       "  <thead>\n",
       "    <tr style=\"text-align: right;\">\n",
       "      <th></th>\n",
       "      <th>tick</th>\n",
       "      <th>dimension</th>\n",
       "      <th>calendardate</th>\n",
       "      <th>datekey</th>\n",
       "      <th>reportperiod</th>\n",
       "      <th>lastupdated</th>\n",
       "      <th>accoci</th>\n",
       "      <th>assets</th>\n",
       "      <th>assetsavg</th>\n",
       "      <th>assetsc</th>\n",
       "      <th>...</th>\n",
       "      <th>sps</th>\n",
       "      <th>tangibles</th>\n",
       "      <th>taxassets</th>\n",
       "      <th>taxexp</th>\n",
       "      <th>taxliabilities</th>\n",
       "      <th>tbvps</th>\n",
       "      <th>workingcapital</th>\n",
       "      <th>52_week_ga</th>\n",
       "      <th>rev_ga</th>\n",
       "      <th>rev_gain_perce</th>\n",
       "    </tr>\n",
       "  </thead>\n",
       "  <tbody>\n",
       "    <tr>\n",
       "      <th>0</th>\n",
       "      <td>PEGA</td>\n",
       "      <td>ARY</td>\n",
       "      <td>2019-12-31</td>\n",
       "      <td>2020-02-12</td>\n",
       "      <td>2019-12-31</td>\n",
       "      <td>2020-02-13</td>\n",
       "      <td>-13228000.0</td>\n",
       "      <td>9.848120e+08</td>\n",
       "      <td>9.497530e+08</td>\n",
       "      <td>5.056100e+08</td>\n",
       "      <td>...</td>\n",
       "      <td>11.528</td>\n",
       "      <td>9.057730e+08</td>\n",
       "      <td>0.000000e+00</td>\n",
       "      <td>-44413000.0</td>\n",
       "      <td>0.0</td>\n",
       "      <td>11.458</td>\n",
       "      <td>127655000.0</td>\n",
       "      <td>0.527937</td>\n",
       "      <td>19802000.0</td>\n",
       "      <td>0.022210</td>\n",
       "    </tr>\n",
       "    <tr>\n",
       "      <th>1</th>\n",
       "      <td>PCYG</td>\n",
       "      <td>ARY</td>\n",
       "      <td>2019-12-31</td>\n",
       "      <td>2019-09-12</td>\n",
       "      <td>2019-06-30</td>\n",
       "      <td>2020-02-11</td>\n",
       "      <td>0.0</td>\n",
       "      <td>5.294054e+07</td>\n",
       "      <td>5.199498e+07</td>\n",
       "      <td>2.654887e+07</td>\n",
       "      <td>...</td>\n",
       "      <td>1.067</td>\n",
       "      <td>3.119739e+07</td>\n",
       "      <td>0.000000e+00</td>\n",
       "      <td>142710.0</td>\n",
       "      <td>0.0</td>\n",
       "      <td>1.572</td>\n",
       "      <td>17746257.0</td>\n",
       "      <td>-0.159341</td>\n",
       "      <td>-866670.0</td>\n",
       "      <td>-0.039329</td>\n",
       "    </tr>\n",
       "    <tr>\n",
       "      <th>2</th>\n",
       "      <td>PCTY</td>\n",
       "      <td>ARY</td>\n",
       "      <td>2019-12-31</td>\n",
       "      <td>2019-08-09</td>\n",
       "      <td>2019-06-30</td>\n",
       "      <td>2020-02-05</td>\n",
       "      <td>112000.0</td>\n",
       "      <td>1.803941e+09</td>\n",
       "      <td>1.735848e+09</td>\n",
       "      <td>1.596189e+09</td>\n",
       "      <td>...</td>\n",
       "      <td>8.838</td>\n",
       "      <td>1.756114e+09</td>\n",
       "      <td>6.472000e+06</td>\n",
       "      <td>4223000.0</td>\n",
       "      <td>6943000.0</td>\n",
       "      <td>33.188</td>\n",
       "      <td>140141000.0</td>\n",
       "      <td>0.635772</td>\n",
       "      <td>90106000.0</td>\n",
       "      <td>0.238674</td>\n",
       "    </tr>\n",
       "    <tr>\n",
       "      <th>3</th>\n",
       "      <td>PAYC</td>\n",
       "      <td>ARY</td>\n",
       "      <td>2019-12-31</td>\n",
       "      <td>2020-02-13</td>\n",
       "      <td>2019-12-31</td>\n",
       "      <td>2020-02-14</td>\n",
       "      <td>0.0</td>\n",
       "      <td>2.486917e+09</td>\n",
       "      <td>1.991991e+09</td>\n",
       "      <td>1.871100e+09</td>\n",
       "      <td>...</td>\n",
       "      <td>12.815</td>\n",
       "      <td>2.435028e+09</td>\n",
       "      <td>4.020000e+06</td>\n",
       "      <td>45511000.0</td>\n",
       "      <td>91217000.0</td>\n",
       "      <td>42.303</td>\n",
       "      <td>117578000.0</td>\n",
       "      <td>0.700247</td>\n",
       "      <td>171335000.0</td>\n",
       "      <td>0.302532</td>\n",
       "    </tr>\n",
       "    <tr>\n",
       "      <th>4</th>\n",
       "      <td>OTEX</td>\n",
       "      <td>ARY</td>\n",
       "      <td>2019-12-31</td>\n",
       "      <td>2019-08-01</td>\n",
       "      <td>2019-06-30</td>\n",
       "      <td>2020-01-30</td>\n",
       "      <td>24124000.0</td>\n",
       "      <td>7.933975e+09</td>\n",
       "      <td>7.786766e+09</td>\n",
       "      <td>1.561328e+09</td>\n",
       "      <td>...</td>\n",
       "      <td>10.673</td>\n",
       "      <td>3.017563e+09</td>\n",
       "      <td>1.080759e+09</td>\n",
       "      <td>154937000.0</td>\n",
       "      <td>291214000.0</td>\n",
       "      <td>11.227</td>\n",
       "      <td>546611000.0</td>\n",
       "      <td>0.122881</td>\n",
       "      <td>53514000.0</td>\n",
       "      <td>0.019009</td>\n",
       "    </tr>\n",
       "  </tbody>\n",
       "</table>\n",
       "<p>5 rows × 114 columns</p>\n",
       "</div>"
      ],
      "text/plain": [
       "   tick dimension calendardate    datekey reportperiod lastupdated  \\\n",
       "0  PEGA       ARY   2019-12-31 2020-02-12   2019-12-31  2020-02-13   \n",
       "1  PCYG       ARY   2019-12-31 2019-09-12   2019-06-30  2020-02-11   \n",
       "2  PCTY       ARY   2019-12-31 2019-08-09   2019-06-30  2020-02-05   \n",
       "3  PAYC       ARY   2019-12-31 2020-02-13   2019-12-31  2020-02-14   \n",
       "4  OTEX       ARY   2019-12-31 2019-08-01   2019-06-30  2020-01-30   \n",
       "\n",
       "       accoci        assets     assetsavg       assetsc  ...     sps  \\\n",
       "0 -13228000.0  9.848120e+08  9.497530e+08  5.056100e+08  ...  11.528   \n",
       "1         0.0  5.294054e+07  5.199498e+07  2.654887e+07  ...   1.067   \n",
       "2    112000.0  1.803941e+09  1.735848e+09  1.596189e+09  ...   8.838   \n",
       "3         0.0  2.486917e+09  1.991991e+09  1.871100e+09  ...  12.815   \n",
       "4  24124000.0  7.933975e+09  7.786766e+09  1.561328e+09  ...  10.673   \n",
       "\n",
       "      tangibles     taxassets       taxexp  taxliabilities   tbvps  \\\n",
       "0  9.057730e+08  0.000000e+00  -44413000.0             0.0  11.458   \n",
       "1  3.119739e+07  0.000000e+00     142710.0             0.0   1.572   \n",
       "2  1.756114e+09  6.472000e+06    4223000.0       6943000.0  33.188   \n",
       "3  2.435028e+09  4.020000e+06   45511000.0      91217000.0  42.303   \n",
       "4  3.017563e+09  1.080759e+09  154937000.0     291214000.0  11.227   \n",
       "\n",
       "   workingcapital  52_week_ga       rev_ga  rev_gain_perce  \n",
       "0     127655000.0    0.527937   19802000.0        0.022210  \n",
       "1      17746257.0   -0.159341    -866670.0       -0.039329  \n",
       "2     140141000.0    0.635772   90106000.0        0.238674  \n",
       "3     117578000.0    0.700247  171335000.0        0.302532  \n",
       "4     546611000.0    0.122881   53514000.0        0.019009  \n",
       "\n",
       "[5 rows x 114 columns]"
      ]
     },
     "execution_count": 55,
     "metadata": {},
     "output_type": "execute_result"
    }
   ],
   "source": [
    "data.head()"
   ]
  },
  {
   "cell_type": "markdown",
   "metadata": {},
   "source": [
    "## How does Gross Margin differ within the sector?\n",
    "\n",
    "Let's make a simple bar graph to explore the differing gross margins:"
   ]
  },
  {
   "cell_type": "code",
   "execution_count": 182,
   "metadata": {},
   "outputs": [
    {
     "data": {
      "image/png": "[encoded data removed]",
      "text/plain": [
       "<Figure size 720x1008 with 1 Axes>"
      ]
     },
     "metadata": {},
     "output_type": "display_data"
    }
   ],
   "source": [
    "plt.figure(figsize=(10,14))\n",
    "sns.barplot(x='grossmargin', y='tick', data=data.sort_values('grossmargin'))\n",
    "sns.despine(bottom=True)\n",
    "plt.show();"
   ]
  },
  {
   "cell_type": "code",
   "execution_count": 184,
   "metadata": {},
   "outputs": [
    {
     "name": "stderr",
     "output_type": "stream",
     "text": [
      "/Users/james.malcolm/anaconda3/envs/taxis/lib/python3.6/site-packages/ipykernel_launcher.py:1: RuntimeWarning: divide by zero encountered in log\n",
      "  \"\"\"Entry point for launching an IPython kernel.\n"
     ]
    },
    {
     "data": {
      "image/png": "[encoded data removed]",
      "text/plain": [
       "<Figure size 432x288 with 1 Axes>"
      ]
     },
     "metadata": {},
     "output_type": "display_data"
    }
   ],
   "source": [
    "sns.regplot(x=np.log(data['sgna']), y=np.log(data['sps'] * 100), data=data, ci=None)\n",
    "plt.title(\"Sales and Marketing Expense vs Sales Per Share\")\n",
    "plt.xlabel(\"Marginal Increase in Sales and Marketing Expense\")\n",
    "plt.ylabel(\"Marginal change in Sales per Share\")\n",
    "plt.show();"
   ]
  },
  {
   "cell_type": "markdown",
   "metadata": {},
   "source": [
    "## To what degree does Sales and Marketing expense influence Gross Margin?\n",
    "\n",
    "The logic behind this is that increasing S&M spend increases Revenue, therefore potentially Gross Margin if COGS stay the same."
   ]
  },
  {
   "cell_type": "code",
   "execution_count": 204,
   "metadata": {},
   "outputs": [
    {
     "data": {
      "image/png": "[encoded data removed]",
      "text/plain": [
       "<Figure size 648x432 with 1 Axes>"
      ]
     },
     "metadata": {},
     "output_type": "display_data"
    }
   ],
   "source": [
    "plt.figure(figsize=(9,6))\n",
    "sns.regplot(x=data[(data['52_week_ga'] <= 0) & (data['tick'] != 'INPX')]['sgna'] / data[(data['52_week_ga'] <= 0) & (data['tick'] != 'INPX')]['revenue'],\n",
    "            y=data[(data['52_week_ga'] <= 0) & (data['tick'] != 'INPX')]['grossmargin'] * 100,\n",
    "            data=data[(data['52_week_ga'] <= 0) & (data['tick'] != 'INPX')],\n",
    "            fit_reg=False,\n",
    "            ci=None,\n",
    "            color='#EF6F6C',\n",
    "            label='Negative Stock Price Growth'\n",
    "           )\n",
    "sns.regplot(x=data[data['52_week_ga'] >= 0]['sgna'] / data[data['52_week_ga'] >= 0]['revenue'],\n",
    "            y=data[data['52_week_ga'] >= 0]['grossmargin'] * 100,\n",
    "            data=data[data['52_week_ga'] >= 0],\n",
    "            fit_reg=False,\n",
    "            ci=None,\n",
    "            color='#5DD39E',\n",
    "            label='Positive Stock Price Growth'\n",
    "           )\n",
    "plt.title(\"Sales and Marketing Expense vs Gross Margin\", size=14)\n",
    "plt.xlabel(\"S&M as proportion of revenue\")\n",
    "plt.ylabel(\"Gross Margin\")\n",
    "sns.despine()\n",
    "plt.legend(loc=4)\n",
    "plt.grid(False)\n",
    "plt.savefig('./images/graphs/grossmargin-snga_by_gm.png', facecolor=\"#3B424D\")\n",
    "plt.show();"
   ]
  },
  {
   "cell_type": "markdown",
   "metadata": {},
   "source": [
    "From this graph, I became interested in the cluster of green companies who have > 80% Gross Margin and < 50% S&M expenditure."
   ]
  },
  {
   "cell_type": "code",
   "execution_count": 186,
   "metadata": {},
   "outputs": [],
   "source": [
    "good_companies = data[(data['52_week_ga'] >= 0) & (data['grossmargin'] > 0.8) & (data['snga_revenue'] < 0.5)][['tick', 'grossmargin', 'snga_revenue', '52_week_ga', 'rev_gain_perce']]"
   ]
  },
  {
   "cell_type": "code",
   "execution_count": 187,
   "metadata": {},
   "outputs": [],
   "source": [
    "others = data[~data['tick'].isin(good_companies['tick']) ][['tick', 'grossmargin', 'snga_revenue', '52_week_ga', 'rev_gain_perce']]"
   ]
  },
  {
   "cell_type": "code",
   "execution_count": 188,
   "metadata": {},
   "outputs": [
    {
     "data": {
      "text/html": [
       "<div>\n",
       "<style scoped>\n",
       "    .dataframe tbody tr th:only-of-type {\n",
       "        vertical-align: middle;\n",
       "    }\n",
       "\n",
       "    .dataframe tbody tr th {\n",
       "        vertical-align: top;\n",
       "    }\n",
       "\n",
       "    .dataframe thead th {\n",
       "        text-align: right;\n",
       "    }\n",
       "</style>\n",
       "<table border=\"1\" class=\"dataframe\">\n",
       "  <thead>\n",
       "    <tr style=\"text-align: right;\">\n",
       "      <th></th>\n",
       "      <th>grossmargin</th>\n",
       "      <th>snga_revenue</th>\n",
       "      <th>52_week_ga</th>\n",
       "      <th>rev_gain_perce</th>\n",
       "    </tr>\n",
       "  </thead>\n",
       "  <tbody>\n",
       "    <tr>\n",
       "      <th>count</th>\n",
       "      <td>66.000000</td>\n",
       "      <td>68.000000</td>\n",
       "      <td>62.000000</td>\n",
       "      <td>67.000000</td>\n",
       "    </tr>\n",
       "    <tr>\n",
       "      <th>mean</th>\n",
       "      <td>0.622136</td>\n",
       "      <td>inf</td>\n",
       "      <td>0.102621</td>\n",
       "      <td>0.134242</td>\n",
       "    </tr>\n",
       "    <tr>\n",
       "      <th>std</th>\n",
       "      <td>0.180238</td>\n",
       "      <td>NaN</td>\n",
       "      <td>0.534978</td>\n",
       "      <td>0.275881</td>\n",
       "    </tr>\n",
       "    <tr>\n",
       "      <th>min</th>\n",
       "      <td>0.148000</td>\n",
       "      <td>0.085835</td>\n",
       "      <td>-0.942599</td>\n",
       "      <td>-1.000000</td>\n",
       "    </tr>\n",
       "    <tr>\n",
       "      <th>25%</th>\n",
       "      <td>0.526250</td>\n",
       "      <td>0.283821</td>\n",
       "      <td>-0.211125</td>\n",
       "      <td>0.020609</td>\n",
       "    </tr>\n",
       "    <tr>\n",
       "      <th>50%</th>\n",
       "      <td>0.671500</td>\n",
       "      <td>0.473647</td>\n",
       "      <td>0.031154</td>\n",
       "      <td>0.108035</td>\n",
       "    </tr>\n",
       "    <tr>\n",
       "      <th>75%</th>\n",
       "      <td>0.740750</td>\n",
       "      <td>0.625317</td>\n",
       "      <td>0.426312</td>\n",
       "      <td>0.255932</td>\n",
       "    </tr>\n",
       "    <tr>\n",
       "      <th>max</th>\n",
       "      <td>0.995000</td>\n",
       "      <td>inf</td>\n",
       "      <td>2.408986</td>\n",
       "      <td>0.728046</td>\n",
       "    </tr>\n",
       "  </tbody>\n",
       "</table>\n",
       "</div>"
      ],
      "text/plain": [
       "       grossmargin  snga_revenue  52_week_ga  rev_gain_perce\n",
       "count    66.000000     68.000000   62.000000       67.000000\n",
       "mean      0.622136           inf    0.102621        0.134242\n",
       "std       0.180238           NaN    0.534978        0.275881\n",
       "min       0.148000      0.085835   -0.942599       -1.000000\n",
       "25%       0.526250      0.283821   -0.211125        0.020609\n",
       "50%       0.671500      0.473647    0.031154        0.108035\n",
       "75%       0.740750      0.625317    0.426312        0.255932\n",
       "max       0.995000           inf    2.408986        0.728046"
      ]
     },
     "execution_count": 188,
     "metadata": {},
     "output_type": "execute_result"
    }
   ],
   "source": [
    "others.describe()"
   ]
  },
  {
   "cell_type": "code",
   "execution_count": 189,
   "metadata": {},
   "outputs": [
    {
     "data": {
      "text/html": [
       "<div>\n",
       "<style scoped>\n",
       "    .dataframe tbody tr th:only-of-type {\n",
       "        vertical-align: middle;\n",
       "    }\n",
       "\n",
       "    .dataframe tbody tr th {\n",
       "        vertical-align: top;\n",
       "    }\n",
       "\n",
       "    .dataframe thead th {\n",
       "        text-align: right;\n",
       "    }\n",
       "</style>\n",
       "<table border=\"1\" class=\"dataframe\">\n",
       "  <thead>\n",
       "    <tr style=\"text-align: right;\">\n",
       "      <th></th>\n",
       "      <th>grossmargin</th>\n",
       "      <th>snga_revenue</th>\n",
       "      <th>52_week_ga</th>\n",
       "      <th>rev_gain_perce</th>\n",
       "    </tr>\n",
       "  </thead>\n",
       "  <tbody>\n",
       "    <tr>\n",
       "      <th>count</th>\n",
       "      <td>7.000000</td>\n",
       "      <td>7.000000</td>\n",
       "      <td>7.000000</td>\n",
       "      <td>7.000000</td>\n",
       "    </tr>\n",
       "    <tr>\n",
       "      <th>mean</th>\n",
       "      <td>0.875143</td>\n",
       "      <td>0.373338</td>\n",
       "      <td>0.282861</td>\n",
       "      <td>0.138706</td>\n",
       "    </tr>\n",
       "    <tr>\n",
       "      <th>std</th>\n",
       "      <td>0.032708</td>\n",
       "      <td>0.078953</td>\n",
       "      <td>0.218383</td>\n",
       "      <td>0.096892</td>\n",
       "    </tr>\n",
       "    <tr>\n",
       "      <th>min</th>\n",
       "      <td>0.831000</td>\n",
       "      <td>0.266008</td>\n",
       "      <td>0.014000</td>\n",
       "      <td>0.012328</td>\n",
       "    </tr>\n",
       "    <tr>\n",
       "      <th>25%</th>\n",
       "      <td>0.848500</td>\n",
       "      <td>0.317819</td>\n",
       "      <td>0.165945</td>\n",
       "      <td>0.074465</td>\n",
       "    </tr>\n",
       "    <tr>\n",
       "      <th>50%</th>\n",
       "      <td>0.886000</td>\n",
       "      <td>0.372052</td>\n",
       "      <td>0.242646</td>\n",
       "      <td>0.137492</td>\n",
       "    </tr>\n",
       "    <tr>\n",
       "      <th>75%</th>\n",
       "      <td>0.896500</td>\n",
       "      <td>0.428452</td>\n",
       "      <td>0.345624</td>\n",
       "      <td>0.184831</td>\n",
       "    </tr>\n",
       "    <tr>\n",
       "      <th>max</th>\n",
       "      <td>0.919000</td>\n",
       "      <td>0.482762</td>\n",
       "      <td>0.700247</td>\n",
       "      <td>0.302532</td>\n",
       "    </tr>\n",
       "  </tbody>\n",
       "</table>\n",
       "</div>"
      ],
      "text/plain": [
       "       grossmargin  snga_revenue  52_week_ga  rev_gain_perce\n",
       "count     7.000000      7.000000    7.000000        7.000000\n",
       "mean      0.875143      0.373338    0.282861        0.138706\n",
       "std       0.032708      0.078953    0.218383        0.096892\n",
       "min       0.831000      0.266008    0.014000        0.012328\n",
       "25%       0.848500      0.317819    0.165945        0.074465\n",
       "50%       0.886000      0.372052    0.242646        0.137492\n",
       "75%       0.896500      0.428452    0.345624        0.184831\n",
       "max       0.919000      0.482762    0.700247        0.302532"
      ]
     },
     "execution_count": 189,
     "metadata": {},
     "output_type": "execute_result"
    }
   ],
   "source": [
    "good_companies.describe()"
   ]
  },
  {
   "cell_type": "code",
   "execution_count": 190,
   "metadata": {},
   "outputs": [
    {
     "name": "stderr",
     "output_type": "stream",
     "text": [
      "/Users/james.malcolm/anaconda3/envs/taxis/lib/python3.6/site-packages/ipykernel_launcher.py:1: SettingWithCopyWarning: \n",
      "A value is trying to be set on a copy of a slice from a DataFrame.\n",
      "Try using .loc[row_indexer,col_indexer] = value instead\n",
      "\n",
      "See the caveats in the documentation: http://pandas.pydata.org/pandas-docs/stable/indexing.html#indexing-view-versus-copy\n",
      "  \"\"\"Entry point for launching an IPython kernel.\n"
     ]
    }
   ],
   "source": [
    "data['snga_revenue'] = data['sgna'] / data['revenue']"
   ]
  },
  {
   "cell_type": "code",
   "execution_count": 191,
   "metadata": {},
   "outputs": [
    {
     "data": {
      "image/png": "[encoded data removed]",
      "text/plain": [
       "<Figure size 648x432 with 1 Axes>"
      ]
     },
     "metadata": {},
     "output_type": "display_data"
    }
   ],
   "source": [
    "plt.figure(figsize=(9,6))\n",
    "sns.regplot(x=data[(data['rev_gain_perce'] <= 0)]['snga_revenue'],\n",
    "            y='grossmargin',\n",
    "            data=data[data['rev_gain_perce'] <= 0],\n",
    "            fit_reg=False,\n",
    "            ci=None,\n",
    "            color='red'\n",
    "           )\n",
    "sns.regplot(x=data[data['rev_gain_perce'] >= 0]['snga_revenue'],\n",
    "            y='grossmargin',\n",
    "            data=data[data['rev_gain_perce'] >= 0],\n",
    "            fit_reg=False,\n",
    "            ci=None,\n",
    "            color='green'\n",
    "           )\n",
    "plt.title(\"Sales and Marketing Expense vs Gross Margin\")\n",
    "plt.xlabel(\"S&M as proportion of revenue\")\n",
    "plt.ylabel(\"Gross Margin\")\n",
    "plt.show();"
   ]
  },
  {
   "cell_type": "code",
   "execution_count": 193,
   "metadata": {},
   "outputs": [
    {
     "name": "stderr",
     "output_type": "stream",
     "text": [
      "/Users/james.malcolm/anaconda3/envs/taxis/lib/python3.6/site-packages/ipykernel_launcher.py:1: SettingWithCopyWarning: \n",
      "A value is trying to be set on a copy of a slice from a DataFrame.\n",
      "Try using .loc[row_indexer,col_indexer] = value instead\n",
      "\n",
      "See the caveats in the documentation: http://pandas.pydata.org/pandas-docs/stable/indexing.html#indexing-view-versus-copy\n",
      "  \"\"\"Entry point for launching an IPython kernel.\n"
     ]
    }
   ],
   "source": [
    "data['above_gm'] = np.where(data['grossmargin'] > data['grossmargin'].mean(), 1, 0)"
   ]
  },
  {
   "cell_type": "code",
   "execution_count": 194,
   "metadata": {},
   "outputs": [
    {
     "data": {
      "image/png": "[encoded data removed]",
      "text/plain": [
       "<Figure size 648x432 with 1 Axes>"
      ]
     },
     "metadata": {},
     "output_type": "display_data"
    }
   ],
   "source": [
    "plt.figure(figsize=(9,6))\n",
    "sns.regplot(x='marketcap', y='price', data=data[data['above_gm'] == 0], ci=None, fit_reg=False)\n",
    "sns.regplot(x='marketcap', y='price', data=data[data['above_gm'] == 1], ci=None, fit_reg=False)\n",
    "plt.title(\"Market Cap vs Price. Colour by Above Avg GM\")\n",
    "plt.xlabel(\"Market Cap\")\n",
    "plt.ylabel(\"Price\")\n",
    "plt.show();"
   ]
  },
  {
   "cell_type": "code",
   "execution_count": 205,
   "metadata": {},
   "outputs": [
    {
     "data": {
      "image/png": "[encoded data removed]",
      "text/plain": [
       "<Figure size 648x432 with 1 Axes>"
      ]
     },
     "metadata": {},
     "output_type": "display_data"
    }
   ],
   "source": [
    "plt.figure(figsize=(9,6))\n",
    "sns.regplot(x='grossmargin', y='52_week_ga', color='#C7CCDB', data=data, ci=None, fit_reg=False)\n",
    "plt.title(\"52 Week Stock Price Growth vs Gross Margin\", size=14)\n",
    "plt.xlabel(\"Gross Margin\")\n",
    "plt.ylabel(\"52 Week Stock Price Growth\")\n",
    "sns.despine()\n",
    "plt.grid(False)\n",
    "plt.savefig('./images/graphs/grossmargin-gm_byStockPrice.png', facecolor=\"#3B424D\")\n",
    "plt.show();"
   ]
  },
  {
   "cell_type": "code",
   "execution_count": 128,
   "metadata": {},
   "outputs": [
    {
     "name": "stderr",
     "output_type": "stream",
     "text": [
      "/Users/james.malcolm/anaconda3/envs/taxis/lib/python3.6/site-packages/ipykernel_launcher.py:3: SettingWithCopyWarning: \n",
      "A value is trying to be set on a copy of a slice from a DataFrame.\n",
      "Try using .loc[row_indexer,col_indexer] = value instead\n",
      "\n",
      "See the caveats in the documentation: http://pandas.pydata.org/pandas-docs/stable/indexing.html#indexing-view-versus-copy\n",
      "  This is separate from the ipykernel package so we can avoid doing imports until\n"
     ]
    }
   ],
   "source": [
    "import statsmodels.formula.api as smf\n",
    "\n",
    "data['year_ga'] = data['52_week_ga']\n",
    "\n",
    "results = smf.ols('year_ga ~ grossmargin', data=data).fit()"
   ]
  },
  {
   "cell_type": "code",
   "execution_count": 129,
   "metadata": {},
   "outputs": [
    {
     "name": "stdout",
     "output_type": "stream",
     "text": [
      "                            OLS Regression Results                            \n",
      "==============================================================================\n",
      "Dep. Variable:                year_ga   R-squared:                       0.000\n",
      "Model:                            OLS   Adj. R-squared:                 -0.015\n",
      "Method:                 Least Squares   F-statistic:                  0.006502\n",
      "Date:                Wed, 11 Mar 2020   Prob (F-statistic):              0.936\n",
      "Time:                        16:57:33   Log-Likelihood:                -49.257\n",
      "No. Observations:                  67   AIC:                             102.5\n",
      "Df Residuals:                      65   BIC:                             106.9\n",
      "Df Model:                           1                                         \n",
      "Covariance Type:            nonrobust                                         \n",
      "===============================================================================\n",
      "                  coef    std err          t      P>|t|      [0.025      0.975]\n",
      "-------------------------------------------------------------------------------\n",
      "Intercept       0.1558      0.229      0.680      0.499      -0.302       0.613\n",
      "grossmargin    -0.0271      0.336     -0.081      0.936      -0.698       0.644\n",
      "==============================================================================\n",
      "Omnibus:                       30.211   Durbin-Watson:                   1.826\n",
      "Prob(Omnibus):                  0.000   Jarque-Bera (JB):               82.205\n",
      "Skew:                           1.344   Prob(JB):                     1.41e-18\n",
      "Kurtosis:                       7.714   Cond. No.                         7.73\n",
      "==============================================================================\n",
      "\n",
      "Warnings:\n",
      "[1] Standard Errors assume that the covariance matrix of the errors is correctly specified.\n"
     ]
    }
   ],
   "source": [
    "print(results.summary())"
   ]
  },
  {
   "cell_type": "code",
   "execution_count": null,
   "metadata": {},
   "outputs": [],
   "source": []
  },
  {
   "cell_type": "code",
   "execution_count": null,
   "metadata": {},
   "outputs": [],
   "source": []
  }
 ],
 "metadata": {
  "kernelspec": {
   "display_name": "Python 3",
   "language": "python",
   "name": "python3"
  },
  "language_info": {
   "codemirror_mode": {
    "name": "ipython",
    "version": 3
   },
   "file_extension": ".py",
   "mimetype": "text/x-python",
   "name": "python",
   "nbconvert_exporter": "python",
   "pygments_lexer": "ipython3",
   "version": "3.6.8"
  }
 },
 "nbformat": 4,
 "nbformat_minor": 4
}
