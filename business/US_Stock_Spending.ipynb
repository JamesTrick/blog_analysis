{
 "cells": [
  {
   "cell_type": "markdown",
   "metadata": {},
   "source": [
    "## Sales and Marketing Spend Analysis\n",
    "\n",
    "This notebook explores some of the top US Listed Software companies and their trends in Sales and Marketing (S&M) and Research and Development (R&D) spend.\n",
    "\n",
    "I do this, firstly by running a simple linear regression to see whether expenditure has a positive effect on Revenues and to what degree.\n",
    "\n",
    "I further break it down, by analysing to see whether the ratio of spend changes with company size."
   ]
  },
  {
   "cell_type": "code",
   "execution_count": 869,
   "metadata": {},
   "outputs": [],
   "source": [
    "import pandas as pd\n",
    "import matplotlib.pyplot as plt\n",
    "import seaborn as sns\n",
    "import glob"
   ]
  },
  {
   "cell_type": "code",
   "execution_count": 870,
   "metadata": {},
   "outputs": [],
   "source": [
    "# Define interested companies\n",
    "stocks_lookup = {\n",
    "    1327811:'Workday, Inc.',\n",
    "    1447669:'Twilio Inc',\n",
    "    1660134:'Okta, Inc.',\n",
    "    1404655:'Hubspot Inc',\n",
    "    1448056:'NEW Relic, Inc.',\n",
    "    1353283:'Splunk Inc',\n",
    "    1373715:'Servicenow, Inc.',\n",
    "    1689923:'Alteryx, Inc.',\n",
    "    1393052:'Veeva Systems Inc',\n",
    "    1512673:'Square, Inc.',\n",
    "    1410384:'Q2 Holdings, Inc.',\n",
    "    1385867:'Coupa Software Inc',\n",
    "    1633917:'Paypal Holdings, Inc.',\n",
    "    1591698:'Paylocity Holding Corp',\n",
    "    1463172:'Zendesk, Inc.',\n",
    "    1108524:'Salesforce COM Inc',\n",
    "    1459417:'2U, Inc.',\n",
    "    1102993:'Liveperson Inc',\n",
    "    1092699:'SPS Commerce Inc',\n",
    "    1355754:'Instructure Inc',\n",
    "    1437352:'Everbridge, Inc.',\n",
    "    1384905:'Ringcentral Inc',\n",
    "    896878:'Intuit Inc'\n",
    "}"
   ]
  },
  {
   "cell_type": "code",
   "execution_count": 871,
   "metadata": {},
   "outputs": [
    {
     "data": {
      "text/plain": [
       "['./metrics/WeightedAverageNumberOfDilutedSharesOutstanding-yearly.csv',\n",
       " './metrics/EarningsPerShareDiluted-yearly.csv',\n",
       " './metrics/CashAndCashEquivalentsAtCarryingValue-yearly.csv',\n",
       " './metrics/NetCashProvidedByUsedInOperatingActivities-yearly.csv',\n",
       " './metrics/PropertyPlantAndEquipmentNet-yearly.csv',\n",
       " './metrics/ComprehensiveIncomeNetOfTax-yearly.csv',\n",
       " './metrics/Assets-yearly.csv',\n",
       " './metrics/OperatingIncomeLoss-yearly.csv',\n",
       " './metrics/NetCashProvidedByUsedInInvestingActivities-yearly.csv',\n",
       " './metrics/Revenues-yearly.csv',\n",
       " './metrics/Liabilities-yearly.csv',\n",
       " './metrics/AssetsCurrent-yearly.csv',\n",
       " './metrics/latest-snapshot-yearly.csv',\n",
       " './metrics/NetCashProvidedByUsedInFinancingActivities-yearly.csv',\n",
       " './metrics/Goodwill-yearly.csv',\n",
       " './metrics/LiabilitiesCurrent-yearly.csv']"
      ]
     },
     "execution_count": 871,
     "metadata": {},
     "output_type": "execute_result"
    }
   ],
   "source": [
    "all_files = glob.glob('./metrics/*-yearly.csv')\n",
    "all_files"
   ]
  },
  {
   "cell_type": "code",
   "execution_count": 872,
   "metadata": {},
   "outputs": [
    {
     "data": {
      "text/plain": [
       "'WeightedAverageNumberOfDilutedSharesOutstanding'"
      ]
     },
     "execution_count": 872,
     "metadata": {},
     "output_type": "execute_result"
    }
   ],
   "source": [
    "st = \"'./metrics/WeightedAverageNumberOfDilutedSharesOutstanding-yearly.csv'\"\n",
    "st.split('/')[2].split('.')[0].split('-')[0]"
   ]
  },
  {
   "cell_type": "code",
   "execution_count": 873,
   "metadata": {},
   "outputs": [],
   "source": [
    "li = []\n",
    "\n",
    "for path in all_files:\n",
    "    try:\n",
    "        interim = pd.read_csv(path)\n",
    "        col = path.split('/')[2].split('.')[0].split('-')[0]\n",
    "        interim = interim.set_index(interim.columns[0])\n",
    "        interim[col] = interim['2016']\n",
    "        interim = interim[[col]]\n",
    "        li.append(interim)\n",
    "    except KeyError:\n",
    "        continue"
   ]
  },
  {
   "cell_type": "code",
   "execution_count": 874,
   "metadata": {},
   "outputs": [],
   "source": [
    "master = pd.concat(li, axis=1, ignore_index=False)"
   ]
  },
  {
   "cell_type": "code",
   "execution_count": 875,
   "metadata": {},
   "outputs": [
    {
     "data": {
      "text/plain": [
       "16"
      ]
     },
     "execution_count": 875,
     "metadata": {},
     "output_type": "execute_result"
    }
   ],
   "source": [
    "len(all_files)"
   ]
  },
  {
   "cell_type": "code",
   "execution_count": 878,
   "metadata": {},
   "outputs": [],
   "source": [
    "# Get interest companies from stocks_lookup\n",
    "interest = master[master.index.isin(list(stocks_lookup.keys()))]"
   ]
  },
  {
   "cell_type": "code",
   "execution_count": 880,
   "metadata": {},
   "outputs": [
    {
     "data": {
      "text/html": [
       "<div>\n",
       "<style scoped>\n",
       "    .dataframe tbody tr th:only-of-type {\n",
       "        vertical-align: middle;\n",
       "    }\n",
       "\n",
       "    .dataframe tbody tr th {\n",
       "        vertical-align: top;\n",
       "    }\n",
       "\n",
       "    .dataframe thead th {\n",
       "        text-align: right;\n",
       "    }\n",
       "</style>\n",
       "<table border=\"1\" class=\"dataframe\">\n",
       "  <thead>\n",
       "    <tr style=\"text-align: right;\">\n",
       "      <th></th>\n",
       "      <th>WeightedAverageNumberOfDilutedSharesOutstanding</th>\n",
       "      <th>EarningsPerShareDiluted</th>\n",
       "      <th>CashAndCashEquivalentsAtCarryingValue</th>\n",
       "      <th>NetCashProvidedByUsedInOperatingActivities</th>\n",
       "      <th>PropertyPlantAndEquipmentNet</th>\n",
       "      <th>ComprehensiveIncomeNetOfTax</th>\n",
       "      <th>Assets</th>\n",
       "      <th>OperatingIncomeLoss</th>\n",
       "      <th>NetCashProvidedByUsedInInvestingActivities</th>\n",
       "      <th>Revenues</th>\n",
       "      <th>Liabilities</th>\n",
       "      <th>AssetsCurrent</th>\n",
       "      <th>NetCashProvidedByUsedInFinancingActivities</th>\n",
       "      <th>Goodwill</th>\n",
       "      <th>LiabilitiesCurrent</th>\n",
       "    </tr>\n",
       "    <tr>\n",
       "      <th>SEC ID</th>\n",
       "      <th></th>\n",
       "      <th></th>\n",
       "      <th></th>\n",
       "      <th></th>\n",
       "      <th></th>\n",
       "      <th></th>\n",
       "      <th></th>\n",
       "      <th></th>\n",
       "      <th></th>\n",
       "      <th></th>\n",
       "      <th></th>\n",
       "      <th></th>\n",
       "      <th></th>\n",
       "      <th></th>\n",
       "      <th></th>\n",
       "    </tr>\n",
       "  </thead>\n",
       "  <tbody>\n",
       "    <tr>\n",
       "      <th>1404655</th>\n",
       "      <td>35197000.0</td>\n",
       "      <td>NaN</td>\n",
       "      <td>59702000.0</td>\n",
       "      <td>1.936600e+07</td>\n",
       "      <td>3.020100e+07</td>\n",
       "      <td>-45621000.0</td>\n",
       "      <td>2.597550e+08</td>\n",
       "      <td>-4.466200e+07</td>\n",
       "      <td>-22957000.0</td>\n",
       "      <td>2.709670e+08</td>\n",
       "      <td>1.410550e+08</td>\n",
       "      <td>1.762530e+08</td>\n",
       "      <td>8.473000e+06</td>\n",
       "      <td>9.773000e+06</td>\n",
       "      <td>1.273830e+08</td>\n",
       "    </tr>\n",
       "    <tr>\n",
       "      <th>1385867</th>\n",
       "      <td>NaN</td>\n",
       "      <td>NaN</td>\n",
       "      <td>201721000.0</td>\n",
       "      <td>-2.095500e+07</td>\n",
       "      <td>4.642000e+06</td>\n",
       "      <td>NaN</td>\n",
       "      <td>2.838640e+08</td>\n",
       "      <td>-3.542400e+07</td>\n",
       "      <td>-11241000.0</td>\n",
       "      <td>1.337750e+08</td>\n",
       "      <td>1.099720e+08</td>\n",
       "      <td>2.615760e+08</td>\n",
       "      <td>1.415690e+08</td>\n",
       "      <td>6.306000e+06</td>\n",
       "      <td>1.085370e+08</td>\n",
       "    </tr>\n",
       "    <tr>\n",
       "      <th>1384905</th>\n",
       "      <td>NaN</td>\n",
       "      <td>NaN</td>\n",
       "      <td>160355000.0</td>\n",
       "      <td>2.970800e+07</td>\n",
       "      <td>3.199400e+07</td>\n",
       "      <td>-27099000.0</td>\n",
       "      <td>2.526290e+08</td>\n",
       "      <td>-2.595200e+07</td>\n",
       "      <td>-16398000.0</td>\n",
       "      <td>3.797240e+08</td>\n",
       "      <td>1.225880e+08</td>\n",
       "      <td>2.059110e+08</td>\n",
       "      <td>9.330000e+06</td>\n",
       "      <td>9.393000e+06</td>\n",
       "      <td>1.160000e+08</td>\n",
       "    </tr>\n",
       "    <tr>\n",
       "      <th>1591698</th>\n",
       "      <td>NaN</td>\n",
       "      <td>NaN</td>\n",
       "      <td>NaN</td>\n",
       "      <td>NaN</td>\n",
       "      <td>NaN</td>\n",
       "      <td>NaN</td>\n",
       "      <td>NaN</td>\n",
       "      <td>NaN</td>\n",
       "      <td>NaN</td>\n",
       "      <td>NaN</td>\n",
       "      <td>NaN</td>\n",
       "      <td>NaN</td>\n",
       "      <td>NaN</td>\n",
       "      <td>NaN</td>\n",
       "      <td>NaN</td>\n",
       "    </tr>\n",
       "    <tr>\n",
       "      <th>1437352</th>\n",
       "      <td>16659561.0</td>\n",
       "      <td>-0.68</td>\n",
       "      <td>60765000.0</td>\n",
       "      <td>9.503000e+06</td>\n",
       "      <td>2.923000e+06</td>\n",
       "      <td>NaN</td>\n",
       "      <td>1.083220e+08</td>\n",
       "      <td>-1.082600e+07</td>\n",
       "      <td>-9020000.0</td>\n",
       "      <td>7.684600e+07</td>\n",
       "      <td>6.597000e+07</td>\n",
       "      <td>8.288300e+07</td>\n",
       "      <td>5.147000e+07</td>\n",
       "      <td>9.676000e+06</td>\n",
       "      <td>6.378300e+07</td>\n",
       "    </tr>\n",
       "    <tr>\n",
       "      <th>1463172</th>\n",
       "      <td>93161000.0</td>\n",
       "      <td>NaN</td>\n",
       "      <td>93677000.0</td>\n",
       "      <td>2.452200e+07</td>\n",
       "      <td>6.273100e+07</td>\n",
       "      <td>-106771000.0</td>\n",
       "      <td>4.752850e+08</td>\n",
       "      <td>-1.043260e+08</td>\n",
       "      <td>-182364000.0</td>\n",
       "      <td>3.119990e+08</td>\n",
       "      <td>1.758570e+08</td>\n",
       "      <td>2.798180e+08</td>\n",
       "      <td>3.562700e+07</td>\n",
       "      <td>4.534700e+07</td>\n",
       "      <td>1.672180e+08</td>\n",
       "    </tr>\n",
       "    <tr>\n",
       "      <th>1447669</th>\n",
       "      <td>NaN</td>\n",
       "      <td>NaN</td>\n",
       "      <td>305665000.0</td>\n",
       "      <td>1.009100e+07</td>\n",
       "      <td>3.755200e+07</td>\n",
       "      <td>NaN</td>\n",
       "      <td>4.126940e+08</td>\n",
       "      <td>-4.131500e+07</td>\n",
       "      <td>-42425000.0</td>\n",
       "      <td>2.773350e+08</td>\n",
       "      <td>8.324700e+07</td>\n",
       "      <td>3.533800e+08</td>\n",
       "      <td>2.291640e+08</td>\n",
       "      <td>3.565000e+06</td>\n",
       "      <td>7.370400e+07</td>\n",
       "    </tr>\n",
       "    <tr>\n",
       "      <th>1373715</th>\n",
       "      <td>NaN</td>\n",
       "      <td>NaN</td>\n",
       "      <td>NaN</td>\n",
       "      <td>NaN</td>\n",
       "      <td>NaN</td>\n",
       "      <td>NaN</td>\n",
       "      <td>NaN</td>\n",
       "      <td>NaN</td>\n",
       "      <td>NaN</td>\n",
       "      <td>NaN</td>\n",
       "      <td>NaN</td>\n",
       "      <td>NaN</td>\n",
       "      <td>NaN</td>\n",
       "      <td>NaN</td>\n",
       "      <td>NaN</td>\n",
       "    </tr>\n",
       "    <tr>\n",
       "      <th>896878</th>\n",
       "      <td>265000000.0</td>\n",
       "      <td>3.69</td>\n",
       "      <td>638000000.0</td>\n",
       "      <td>1.401000e+09</td>\n",
       "      <td>1.031000e+09</td>\n",
       "      <td>977000000.0</td>\n",
       "      <td>4.250000e+09</td>\n",
       "      <td>1.242000e+09</td>\n",
       "      <td>371000000.0</td>\n",
       "      <td>4.694000e+09</td>\n",
       "      <td>3.089000e+09</td>\n",
       "      <td>1.614000e+09</td>\n",
       "      <td>-1.940000e+09</td>\n",
       "      <td>1.282000e+09</td>\n",
       "      <td>2.251000e+09</td>\n",
       "    </tr>\n",
       "    <tr>\n",
       "      <th>1102993</th>\n",
       "      <td>56063777.0</td>\n",
       "      <td>-0.46</td>\n",
       "      <td>50889000.0</td>\n",
       "      <td>2.456000e+07</td>\n",
       "      <td>2.839700e+07</td>\n",
       "      <td>-29497000.0</td>\n",
       "      <td>2.196380e+08</td>\n",
       "      <td>-1.940900e+07</td>\n",
       "      <td>-11452000.0</td>\n",
       "      <td>2.227790e+08</td>\n",
       "      <td>8.116200e+07</td>\n",
       "      <td>9.215100e+07</td>\n",
       "      <td>-7.068000e+06</td>\n",
       "      <td>8.024500e+07</td>\n",
       "      <td>7.468300e+07</td>\n",
       "    </tr>\n",
       "  </tbody>\n",
       "</table>\n",
       "</div>"
      ],
      "text/plain": [
       "         WeightedAverageNumberOfDilutedSharesOutstanding  EarningsPerShareDiluted  CashAndCashEquivalentsAtCarryingValue  NetCashProvidedByUsedInOperatingActivities  PropertyPlantAndEquipmentNet  ComprehensiveIncomeNetOfTax        Assets  OperatingIncomeLoss  NetCashProvidedByUsedInInvestingActivities      Revenues   Liabilities  AssetsCurrent  NetCashProvidedByUsedInFinancingActivities      Goodwill  LiabilitiesCurrent\n",
       "SEC ID                                                                                                                                                                                                                                                                                                                                                                                                                                 \n",
       "1404655                                       35197000.0                      NaN                             59702000.0                                1.936600e+07                  3.020100e+07                  -45621000.0  2.597550e+08        -4.466200e+07                                 -22957000.0  2.709670e+08  1.410550e+08   1.762530e+08                                8.473000e+06  9.773000e+06        1.273830e+08\n",
       "1385867                                              NaN                      NaN                            201721000.0                               -2.095500e+07                  4.642000e+06                          NaN  2.838640e+08        -3.542400e+07                                 -11241000.0  1.337750e+08  1.099720e+08   2.615760e+08                                1.415690e+08  6.306000e+06        1.085370e+08\n",
       "1384905                                              NaN                      NaN                            160355000.0                                2.970800e+07                  3.199400e+07                  -27099000.0  2.526290e+08        -2.595200e+07                                 -16398000.0  3.797240e+08  1.225880e+08   2.059110e+08                                9.330000e+06  9.393000e+06        1.160000e+08\n",
       "1591698                                              NaN                      NaN                                    NaN                                         NaN                           NaN                          NaN           NaN                  NaN                                         NaN           NaN           NaN            NaN                                         NaN           NaN                 NaN\n",
       "1437352                                       16659561.0                    -0.68                             60765000.0                                9.503000e+06                  2.923000e+06                          NaN  1.083220e+08        -1.082600e+07                                  -9020000.0  7.684600e+07  6.597000e+07   8.288300e+07                                5.147000e+07  9.676000e+06        6.378300e+07\n",
       "1463172                                       93161000.0                      NaN                             93677000.0                                2.452200e+07                  6.273100e+07                 -106771000.0  4.752850e+08        -1.043260e+08                                -182364000.0  3.119990e+08  1.758570e+08   2.798180e+08                                3.562700e+07  4.534700e+07        1.672180e+08\n",
       "1447669                                              NaN                      NaN                            305665000.0                                1.009100e+07                  3.755200e+07                          NaN  4.126940e+08        -4.131500e+07                                 -42425000.0  2.773350e+08  8.324700e+07   3.533800e+08                                2.291640e+08  3.565000e+06        7.370400e+07\n",
       "1373715                                              NaN                      NaN                                    NaN                                         NaN                           NaN                          NaN           NaN                  NaN                                         NaN           NaN           NaN            NaN                                         NaN           NaN                 NaN\n",
       "896878                                       265000000.0                     3.69                            638000000.0                                1.401000e+09                  1.031000e+09                  977000000.0  4.250000e+09         1.242000e+09                                 371000000.0  4.694000e+09  3.089000e+09   1.614000e+09                               -1.940000e+09  1.282000e+09        2.251000e+09\n",
       "1102993                                       56063777.0                    -0.46                             50889000.0                                2.456000e+07                  2.839700e+07                  -29497000.0  2.196380e+08        -1.940900e+07                                 -11452000.0  2.227790e+08  8.116200e+07   9.215100e+07                               -7.068000e+06  8.024500e+07        7.468300e+07"
      ]
     },
     "execution_count": 880,
     "metadata": {},
     "output_type": "execute_result"
    }
   ],
   "source": [
    "interest.head(10)"
   ]
  },
  {
   "cell_type": "code",
   "execution_count": 881,
   "metadata": {},
   "outputs": [
    {
     "data": {
      "image/png": "[encoded data removed]",
      "text/plain": [
       "<Figure size 432x288 with 1 Axes>"
      ]
     },
     "metadata": {},
     "output_type": "display_data"
    }
   ],
   "source": [
    "plt.scatter(x='Assets', y='Revenues', data=interest)\n",
    "plt.title(\"Revenue vs Assets\")\n",
    "plt.xlabel(\"Assets\")\n",
    "plt.ylabel(\"Revenue\")\n",
    "plt.show();"
   ]
  },
  {
   "cell_type": "code",
   "execution_count": 882,
   "metadata": {},
   "outputs": [
    {
     "data": {
      "image/png": "[encoded data removed]",
      "text/plain": [
       "<Figure size 432x288 with 1 Axes>"
      ]
     },
     "metadata": {},
     "output_type": "display_data"
    }
   ],
   "source": [
    "plt.scatter(x='Assets', y='Revenues', data=interest)\n",
    "plt.title(\"Revenue vs Cash From Financing\")\n",
    "plt.xlabel(\"Assets\")\n",
    "plt.ylabel(\"Revenue\")\n",
    "plt.show();"
   ]
  },
  {
   "cell_type": "code",
   "execution_count": 883,
   "metadata": {},
   "outputs": [],
   "source": [
    "li = []\n",
    "\n",
    "for stock in list(stocks_lookup.keys()):\n",
    "    try:\n",
    "        file_path = f\"./companies/{stock}-yearly.csv\"\n",
    "        interim = pd.read_csv(file_path)\n",
    "        interim = interim.set_index(interim.columns[0])\n",
    "        interim = interim[interim.columns[-1]]\n",
    "        interim['secid'] = stock\n",
    "        li.append(interim.T)\n",
    "    except:\n",
    "        continue\n"
   ]
  },
  {
   "cell_type": "code",
   "execution_count": 884,
   "metadata": {},
   "outputs": [
    {
     "name": "stderr",
     "output_type": "stream",
     "text": [
      "/Users/james.malcolm/anaconda3/envs/taxis/lib/python3.6/site-packages/ipykernel_launcher.py:1: FutureWarning: Sorting because non-concatenation axis is not aligned. A future version\n",
      "of pandas will change to not sort by default.\n",
      "\n",
      "To accept the future behavior, pass 'sort=False'.\n",
      "\n",
      "To retain the current behavior and silence the warning, pass 'sort=True'.\n",
      "\n",
      "  \"\"\"Entry point for launching an IPython kernel.\n"
     ]
    }
   ],
   "source": [
    "master_financials = pd.concat(li, axis=1, ignore_index=True)"
   ]
  },
  {
   "cell_type": "code",
   "execution_count": 885,
   "metadata": {},
   "outputs": [],
   "source": [
    "master_financials = master_financials.T"
   ]
  },
  {
   "cell_type": "code",
   "execution_count": 886,
   "metadata": {},
   "outputs": [],
   "source": [
    "master_financials = master_financials.set_index('secid')"
   ]
  },
  {
   "cell_type": "code",
   "execution_count": 887,
   "metadata": {},
   "outputs": [
    {
     "data": {
      "text/plain": [
       "count    2.000000e+01\n",
       "mean     1.616380e+09\n",
       "std      2.955874e+09\n",
       "min      7.684600e+07\n",
       "25%      2.154080e+08\n",
       "50%      2.946670e+08\n",
       "75%      1.146462e+09\n",
       "max      1.084200e+10\n",
       "Name: Revenues, dtype: float64"
      ]
     },
     "execution_count": 887,
     "metadata": {},
     "output_type": "execute_result"
    }
   ],
   "source": [
    "master_financials.Revenues.describe()"
   ]
  },
  {
   "cell_type": "code",
   "execution_count": 888,
   "metadata": {},
   "outputs": [],
   "source": [
    "data = master_financials"
   ]
  },
  {
   "cell_type": "code",
   "execution_count": 889,
   "metadata": {},
   "outputs": [],
   "source": [
    "from sklearn.preprocessing import StandardScaler\n",
    "from sklearn.cluster import OPTICS\n",
    "\n",
    "# clustering = OPTICS(min_samples=2).fit(X)\n",
    "# clustering.labels_"
   ]
  },
  {
   "cell_type": "code",
   "execution_count": 890,
   "metadata": {},
   "outputs": [],
   "source": [
    "scaler = StandardScaler()\n",
    "scaled = scaler.fit_transform(data.fillna(0))"
   ]
  },
  {
   "cell_type": "code",
   "execution_count": 891,
   "metadata": {},
   "outputs": [],
   "source": [
    "clustering = OPTICS(min_samples=2).fit(scaled)"
   ]
  },
  {
   "cell_type": "code",
   "execution_count": 892,
   "metadata": {},
   "outputs": [
    {
     "data": {
      "text/plain": [
       "array([0, 0, 0, 0, 0, 0, 0, 0, 0, 0, 0, 0, 0, 0, 0, 0, 0, 0, 0, 0, 0])"
      ]
     },
     "execution_count": 892,
     "metadata": {},
     "output_type": "execute_result"
    }
   ],
   "source": [
    "clustering.labels_"
   ]
  },
  {
   "cell_type": "code",
   "execution_count": 893,
   "metadata": {},
   "outputs": [
    {
     "data": {
      "text/plain": [
       "(21, 2)"
      ]
     },
     "execution_count": 893,
     "metadata": {},
     "output_type": "execute_result"
    }
   ],
   "source": [
    "from sklearn.manifold import TSNE\n",
    "from sklearn.decomposition import PCA\n",
    "X_embedded = TSNE(n_components=2).fit_transform(data.fillna(0))\n",
    "X_embedded.shape"
   ]
  },
  {
   "cell_type": "code",
   "execution_count": 894,
   "metadata": {},
   "outputs": [
    {
     "data": {
      "text/plain": [
       "<matplotlib.collections.PathCollection at 0x130b3fda0>"
      ]
     },
     "execution_count": 894,
     "metadata": {},
     "output_type": "execute_result"
    },
    {
     "data": {
      "image/png": "[encoded data removed]",
      "text/plain": [
       "<Figure size 432x288 with 1 Axes>"
      ]
     },
     "metadata": {},
     "output_type": "display_data"
    }
   ],
   "source": [
    "plt.scatter(X_embedded[:,0], X_embedded[:,1])"
   ]
  },
  {
   "cell_type": "code",
   "execution_count": 895,
   "metadata": {},
   "outputs": [
    {
     "name": "stdout",
     "output_type": "stream",
     "text": [
      "Explained variation per principal component: [0.72949806 0.17318757 0.04465374]\n"
     ]
    }
   ],
   "source": [
    "df_subset = pd.DataFrame()\n",
    "\n",
    "data_subset = data.fillna(0).values\n",
    "pca = PCA(n_components=3)\n",
    "\n",
    "pca_result = pca.fit_transform(data_subset)\n",
    "\n",
    "df_subset['pca-one'] = pca_result[:,0]\n",
    "df_subset['pca-two'] = pca_result[:,1] \n",
    "df_subset['pca-three'] = pca_result[:,2]\n",
    "print('Explained variation per principal component: {}'.format(pca.explained_variance_ratio_))\n"
   ]
  },
  {
   "cell_type": "code",
   "execution_count": 896,
   "metadata": {},
   "outputs": [
    {
     "name": "stdout",
     "output_type": "stream",
     "text": [
      "[t-SNE] Computing 20 nearest neighbors...\n",
      "[t-SNE] Indexed 21 samples in 0.000s...\n",
      "[t-SNE] Computed neighbors for 21 samples in 0.003s...\n",
      "[t-SNE] Computed conditional probabilities for sample 21 / 21\n",
      "[t-SNE] Mean sigma: 1125899906842624.000000\n",
      "[t-SNE] KL divergence after 250 iterations with early exaggeration: 44.952324\n",
      "[t-SNE] KL divergence after 300 iterations: 0.499397\n"
     ]
    }
   ],
   "source": [
    "tsne = TSNE(n_components=2, verbose=1, perplexity=40, n_iter=300)\n",
    "tsne_results = tsne.fit_transform(df_subset)"
   ]
  },
  {
   "cell_type": "code",
   "execution_count": 897,
   "metadata": {},
   "outputs": [
    {
     "data": {
      "image/png": "[encoded data removed]",
      "text/plain": [
       "<Figure size 648x432 with 1 Axes>"
      ]
     },
     "metadata": {},
     "output_type": "display_data"
    }
   ],
   "source": [
    "df_subset['tsne-2d-one'] = tsne_results[:,0]\n",
    "df_subset['tsne-2d-two'] = tsne_results[:,1]\n",
    "\n",
    "plt.figure(figsize=(9,6))\n",
    "sns.scatterplot(\n",
    "    x=\"tsne-2d-one\", y=\"tsne-2d-two\",\n",
    "    palette=sns.color_palette(\"hls\", 10),\n",
    "    data=df_subset,\n",
    "    legend=\"full\",\n",
    "    alpha=0.9\n",
    ");"
   ]
  },
  {
   "cell_type": "markdown",
   "metadata": {},
   "source": [
    "## Linear Regression on Revenues\n",
    "\n",
    "For this section, I just want to gauge whether there is a positive effect of incremental change of R&D and S&M spend."
   ]
  },
  {
   "cell_type": "code",
   "execution_count": 898,
   "metadata": {},
   "outputs": [],
   "source": [
    "import statsmodels.formula.api as smf\n",
    "import numpy as np\n",
    "\n",
    "results = smf.ols('np.log(Revenues) ~ np.log(SellingAndMarketingExpense) + np.log(ResearchAndDevelopmentExpense)', data=data).fit()"
   ]
  },
  {
   "cell_type": "code",
   "execution_count": 899,
   "metadata": {},
   "outputs": [
    {
     "name": "stdout",
     "output_type": "stream",
     "text": [
      "                            OLS Regression Results                            \n",
      "==============================================================================\n",
      "Dep. Variable:       np.log(Revenues)   R-squared:                       0.923\n",
      "Model:                            OLS   Adj. R-squared:                  0.914\n",
      "Method:                 Least Squares   F-statistic:                     102.4\n",
      "Date:                Thu, 27 Feb 2020   Prob (F-statistic):           3.29e-10\n",
      "Time:                        14:44:47   Log-Likelihood:                -9.2832\n",
      "No. Observations:                  20   AIC:                             24.57\n",
      "Df Residuals:                      17   BIC:                             27.55\n",
      "Df Model:                           2                                         \n",
      "Covariance Type:            nonrobust                                         \n",
      "=========================================================================================================\n",
      "                                            coef    std err          t      P>|t|      [0.025      0.975]\n",
      "---------------------------------------------------------------------------------------------------------\n",
      "Intercept                                 1.0187      1.428      0.714      0.485      -1.993       4.031\n",
      "np.log(SellingAndMarketingExpense)        0.1835      0.206      0.890      0.386      -0.252       0.619\n",
      "np.log(ResearchAndDevelopmentExpense)     0.8437      0.194      4.345      0.000       0.434       1.253\n",
      "==============================================================================\n",
      "Omnibus:                        1.640   Durbin-Watson:                   1.650\n",
      "Prob(Omnibus):                  0.440   Jarque-Bera (JB):                0.652\n",
      "Skew:                           0.427   Prob(JB):                        0.722\n",
      "Kurtosis:                       3.231   Cond. No.                         407.\n",
      "==============================================================================\n",
      "\n",
      "Warnings:\n",
      "[1] Standard Errors assume that the covariance matrix of the errors is correctly specified.\n"
     ]
    }
   ],
   "source": [
    "print(results.summary())"
   ]
  },
  {
   "cell_type": "code",
   "execution_count": null,
   "metadata": {},
   "outputs": [],
   "source": []
  },
  {
   "cell_type": "code",
   "execution_count": 902,
   "metadata": {},
   "outputs": [],
   "source": [
    "joined = interest.join(master_financials, lsuffix='_interest', rsuffix='_metrics', how='inner')"
   ]
  },
  {
   "cell_type": "code",
   "execution_count": 904,
   "metadata": {},
   "outputs": [
    {
     "name": "stderr",
     "output_type": "stream",
     "text": [
      "/Users/james.malcolm/anaconda3/envs/taxis/lib/python3.6/site-packages/pandas/core/frame.py:3940: SettingWithCopyWarning: \n",
      "A value is trying to be set on a copy of a slice from a DataFrame\n",
      "\n",
      "See the caveats in the documentation: http://pandas.pydata.org/pandas-docs/stable/indexing.html#indexing-view-versus-copy\n",
      "  errors=errors)\n"
     ]
    }
   ],
   "source": [
    "plotting = joined[['Assets', 'Revenues_metrics', 'SellingAndMarketingExpense', 'ResearchAndDevelopmentExpense', 'AdvertisingExpense']]\n",
    "\n",
    "plotting.drop([1108524, 1633917], inplace=True)"
   ]
  },
  {
   "cell_type": "code",
   "execution_count": 906,
   "metadata": {},
   "outputs": [],
   "source": [
    "import seaborn as sns"
   ]
  },
  {
   "cell_type": "code",
   "execution_count": 907,
   "metadata": {},
   "outputs": [],
   "source": [
    "sns.set_context('poster')\n",
    "#sns.set_palette(\"PuBuGn_d\")\n",
    "sns.set(style=\"whitegrid\")"
   ]
  },
  {
   "cell_type": "code",
   "execution_count": 918,
   "metadata": {},
   "outputs": [],
   "source": [
    "\"\"\"\n",
    "\n",
    "rc = {'axes.axisbelow': True,\n",
    " 'axes.edgecolor': 'white',\n",
    " 'axes.facecolor': '#EAEAF2',\n",
    " 'axes.grid': True,\n",
    " 'axes.labelcolor': 'white',\n",
    " 'axes.linewidth': 0,\n",
    " 'font.family': 'Arial',\n",
    " 'grid.color': 'white',\n",
    " 'grid.linestyle': '-',\n",
    " 'image.cmap': 'Greys',\n",
    " 'legend.frameon': False,\n",
    " 'legend.numpoints': 1,\n",
    " 'legend.scatterpoints': 1,\n",
    " 'lines.solid_capstyle': 'round',\n",
    " 'pdf.fonttype': 42,\n",
    " 'text.color': 'white',\n",
    " 'xtick.color': 'white',\n",
    " 'xtick.direction': 'out',\n",
    " 'xtick.major.size': 0,\n",
    " 'xtick.minor.size': 0,\n",
    " 'ytick.color': 'white',\n",
    " 'ytick.direction': 'out',\n",
    " 'ytick.major.size': 0,\n",
    " 'ytick.minor.size': 0}\n",
    "\"\"\"\n",
    "#sns.set(rc=rc)\n",
    "sns.set_style(\"dark\")\n"
   ]
  },
  {
   "cell_type": "code",
   "execution_count": 919,
   "metadata": {},
   "outputs": [
    {
     "data": {
      "text/html": [
       "<div>\n",
       "<style scoped>\n",
       "    .dataframe tbody tr th:only-of-type {\n",
       "        vertical-align: middle;\n",
       "    }\n",
       "\n",
       "    .dataframe tbody tr th {\n",
       "        vertical-align: top;\n",
       "    }\n",
       "\n",
       "    .dataframe thead th {\n",
       "        text-align: right;\n",
       "    }\n",
       "</style>\n",
       "<table border=\"1\" class=\"dataframe\">\n",
       "  <thead>\n",
       "    <tr style=\"text-align: right;\">\n",
       "      <th></th>\n",
       "      <th>Assets</th>\n",
       "      <th>Revenues_metrics</th>\n",
       "      <th>SellingAndMarketingExpense</th>\n",
       "      <th>ResearchAndDevelopmentExpense</th>\n",
       "      <th>AdvertisingExpense</th>\n",
       "      <th>company</th>\n",
       "    </tr>\n",
       "  </thead>\n",
       "  <tbody>\n",
       "    <tr>\n",
       "      <th>1404655.0</th>\n",
       "      <td>259755000.0</td>\n",
       "      <td>270967000.0</td>\n",
       "      <td>162647000.0</td>\n",
       "      <td>45997000.0</td>\n",
       "      <td>4200000.0</td>\n",
       "      <td>Hubspot Inc</td>\n",
       "    </tr>\n",
       "    <tr>\n",
       "      <th>1385867.0</th>\n",
       "      <td>283864000.0</td>\n",
       "      <td>133775000.0</td>\n",
       "      <td>68562000.0</td>\n",
       "      <td>30262000.0</td>\n",
       "      <td>446000.0</td>\n",
       "      <td>Coupa Software Inc</td>\n",
       "    </tr>\n",
       "    <tr>\n",
       "      <th>1384905.0</th>\n",
       "      <td>252629000.0</td>\n",
       "      <td>379724000.0</td>\n",
       "      <td>192497000.0</td>\n",
       "      <td>65514000.0</td>\n",
       "      <td>41600000.0</td>\n",
       "      <td>Ringcentral Inc</td>\n",
       "    </tr>\n",
       "    <tr>\n",
       "      <th>1591698.0</th>\n",
       "      <td>NaN</td>\n",
       "      <td>230701000.0</td>\n",
       "      <td>61832000.0</td>\n",
       "      <td>26736000.0</td>\n",
       "      <td>219000.0</td>\n",
       "      <td>Paylocity Holding Corp</td>\n",
       "    </tr>\n",
       "    <tr>\n",
       "      <th>1437352.0</th>\n",
       "      <td>108322000.0</td>\n",
       "      <td>76846000.0</td>\n",
       "      <td>34847000.0</td>\n",
       "      <td>14765000.0</td>\n",
       "      <td>1100000.0</td>\n",
       "      <td>Everbridge, Inc.</td>\n",
       "    </tr>\n",
       "  </tbody>\n",
       "</table>\n",
       "</div>"
      ],
      "text/plain": [
       "                Assets  Revenues_metrics  SellingAndMarketingExpense  ResearchAndDevelopmentExpense  AdvertisingExpense                 company\n",
       "1404655.0  259755000.0       270967000.0                 162647000.0                     45997000.0           4200000.0             Hubspot Inc\n",
       "1385867.0  283864000.0       133775000.0                  68562000.0                     30262000.0            446000.0      Coupa Software Inc\n",
       "1384905.0  252629000.0       379724000.0                 192497000.0                     65514000.0          41600000.0         Ringcentral Inc\n",
       "1591698.0          NaN       230701000.0                  61832000.0                     26736000.0            219000.0  Paylocity Holding Corp\n",
       "1437352.0  108322000.0        76846000.0                  34847000.0                     14765000.0           1100000.0        Everbridge, Inc."
      ]
     },
     "execution_count": 919,
     "metadata": {},
     "output_type": "execute_result"
    }
   ],
   "source": [
    "plotting.head()"
   ]
  },
  {
   "cell_type": "code",
   "execution_count": 930,
   "metadata": {},
   "outputs": [
    {
     "data": {
      "image/png": "[encoded data removed]",
      "text/plain": [
       "<Figure size 648x432 with 1 Axes>"
      ]
     },
     "metadata": {},
     "output_type": "display_data"
    }
   ],
   "source": [
    "plt.figure(figsize=(9,6))\n",
    "sns.regplot(x=plotting.iloc[:,0],\n",
    "            y=(plotting.iloc[:,2] / plotting.iloc[:,1]) * 100,\n",
    "            ci=None,\n",
    "           )\n",
    "sns.despine(left=True, bottom=True)\n",
    "plt.title(\"Sales and Marketing Expense vs Total Assets\")\n",
    "plt.ylabel(\"S&M Expenses as a % of Revenue\")\n",
    "plt.xlabel(\"Total Assets\")\n",
    "plt.savefig('sm_expense.png', transparent=True)\n",
    "plt.show();"
   ]
  },
  {
   "cell_type": "code",
   "execution_count": 921,
   "metadata": {},
   "outputs": [
    {
     "data": {
      "image/png": "[encoded data removed]",
      "text/plain": [
       "<Figure size 648x432 with 1 Axes>"
      ]
     },
     "metadata": {},
     "output_type": "display_data"
    }
   ],
   "source": [
    "plt.figure(figsize=(9,6))\n",
    "sns.regplot(x=plotting.iloc[:,0],\n",
    "            y=(plotting.iloc[:,3] / plotting.iloc[:,1]) * 100,\n",
    "            ci=None,\n",
    "           )\n",
    "sns.despine()\n",
    "plt.title(\"Research and Development Expense vs Total Assets\")\n",
    "plt.ylabel(\"R&D Expenses as a % of Revenue\")\n",
    "plt.xlabel(\"Total Assets\")\n",
    "plt.savefig(\"rd_figure.png\", transparent=True)\n",
    "plt.show();"
   ]
  },
  {
   "cell_type": "code",
   "execution_count": 922,
   "metadata": {},
   "outputs": [
    {
     "name": "stderr",
     "output_type": "stream",
     "text": [
      "/Users/james.malcolm/anaconda3/envs/taxis/lib/python3.6/site-packages/ipykernel_launcher.py:1: SettingWithCopyWarning: \n",
      "A value is trying to be set on a copy of a slice from a DataFrame.\n",
      "Try using .loc[row_indexer,col_indexer] = value instead\n",
      "\n",
      "See the caveats in the documentation: http://pandas.pydata.org/pandas-docs/stable/indexing.html#indexing-view-versus-copy\n",
      "  \"\"\"Entry point for launching an IPython kernel.\n"
     ]
    }
   ],
   "source": [
    "plotting['company'] = plotting.index.map(stocks_lookup)"
   ]
  },
  {
   "cell_type": "code",
   "execution_count": 923,
   "metadata": {},
   "outputs": [
    {
     "data": {
      "text/html": [
       "<div>\n",
       "<style scoped>\n",
       "    .dataframe tbody tr th:only-of-type {\n",
       "        vertical-align: middle;\n",
       "    }\n",
       "\n",
       "    .dataframe tbody tr th {\n",
       "        vertical-align: top;\n",
       "    }\n",
       "\n",
       "    .dataframe thead th {\n",
       "        text-align: right;\n",
       "    }\n",
       "</style>\n",
       "<table border=\"1\" class=\"dataframe\">\n",
       "  <thead>\n",
       "    <tr style=\"text-align: right;\">\n",
       "      <th></th>\n",
       "      <th>Assets</th>\n",
       "      <th>Revenues_metrics</th>\n",
       "      <th>SellingAndMarketingExpense</th>\n",
       "      <th>ResearchAndDevelopmentExpense</th>\n",
       "      <th>AdvertisingExpense</th>\n",
       "      <th>Total</th>\n",
       "      <th>Selling_percent</th>\n",
       "    </tr>\n",
       "    <tr>\n",
       "      <th>company</th>\n",
       "      <th></th>\n",
       "      <th></th>\n",
       "      <th></th>\n",
       "      <th></th>\n",
       "      <th></th>\n",
       "      <th></th>\n",
       "      <th></th>\n",
       "    </tr>\n",
       "  </thead>\n",
       "  <tbody>\n",
       "    <tr>\n",
       "      <th>Hubspot Inc</th>\n",
       "      <td>259755000.0</td>\n",
       "      <td>270967000.0</td>\n",
       "      <td>162647000.0</td>\n",
       "      <td>45997000.0</td>\n",
       "      <td>4200000.0</td>\n",
       "      <td>76.999782</td>\n",
       "      <td>16.975130</td>\n",
       "    </tr>\n",
       "    <tr>\n",
       "      <th>Coupa Software Inc</th>\n",
       "      <td>283864000.0</td>\n",
       "      <td>133775000.0</td>\n",
       "      <td>68562000.0</td>\n",
       "      <td>30262000.0</td>\n",
       "      <td>446000.0</td>\n",
       "      <td>73.873295</td>\n",
       "      <td>22.621566</td>\n",
       "    </tr>\n",
       "    <tr>\n",
       "      <th>Ringcentral Inc</th>\n",
       "      <td>252629000.0</td>\n",
       "      <td>379724000.0</td>\n",
       "      <td>192497000.0</td>\n",
       "      <td>65514000.0</td>\n",
       "      <td>41600000.0</td>\n",
       "      <td>67.946983</td>\n",
       "      <td>17.253057</td>\n",
       "    </tr>\n",
       "    <tr>\n",
       "      <th>Paylocity Holding Corp</th>\n",
       "      <td>NaN</td>\n",
       "      <td>230701000.0</td>\n",
       "      <td>61832000.0</td>\n",
       "      <td>26736000.0</td>\n",
       "      <td>219000.0</td>\n",
       "      <td>38.390818</td>\n",
       "      <td>11.589026</td>\n",
       "    </tr>\n",
       "    <tr>\n",
       "      <th>Everbridge, Inc.</th>\n",
       "      <td>108322000.0</td>\n",
       "      <td>76846000.0</td>\n",
       "      <td>34847000.0</td>\n",
       "      <td>14765000.0</td>\n",
       "      <td>1100000.0</td>\n",
       "      <td>64.560289</td>\n",
       "      <td>19.213752</td>\n",
       "    </tr>\n",
       "  </tbody>\n",
       "</table>\n",
       "</div>"
      ],
      "text/plain": [
       "                             Assets  Revenues_metrics  SellingAndMarketingExpense  ResearchAndDevelopmentExpense  AdvertisingExpense      Total  Selling_percent\n",
       "company                                                                                                                                                         \n",
       "Hubspot Inc             259755000.0       270967000.0                 162647000.0                     45997000.0           4200000.0  76.999782        16.975130\n",
       "Coupa Software Inc      283864000.0       133775000.0                  68562000.0                     30262000.0            446000.0  73.873295        22.621566\n",
       "Ringcentral Inc         252629000.0       379724000.0                 192497000.0                     65514000.0          41600000.0  67.946983        17.253057\n",
       "Paylocity Holding Corp          NaN       230701000.0                  61832000.0                     26736000.0            219000.0  38.390818        11.589026\n",
       "Everbridge, Inc.        108322000.0        76846000.0                  34847000.0                     14765000.0           1100000.0  64.560289        19.213752"
      ]
     },
     "execution_count": 923,
     "metadata": {},
     "output_type": "execute_result"
    }
   ],
   "source": [
    "plotting_s = plotting.set_index('company')\n",
    "plotting_s['Total'] = (plotting_s['SellingAndMarketingExpense'] + plotting_s['ResearchAndDevelopmentExpense']) / plotting_s['Revenues_metrics'] * 100\n",
    "plotting_s['Selling_percent'] = plotting_s['ResearchAndDevelopmentExpense'] / plotting_s['Revenues_metrics'] * 100\n",
    "plotting_s.head()\n"
   ]
  },
  {
   "cell_type": "code",
   "execution_count": 924,
   "metadata": {},
   "outputs": [
    {
     "data": {
      "image/png": "[encoded data removed]",
      "text/plain": [
       "<Figure size 576x720 with 1 Axes>"
      ]
     },
     "metadata": {},
     "output_type": "display_data"
    }
   ],
   "source": [
    "f, ax = plt.subplots(figsize=(8, 10))\n",
    "# sns.set(style=\"whitegrid\")\n",
    "sns.set_color_codes(\"pastel\")\n",
    "sns.barplot(x=\"Total\", y=\"company\", data=plotting_s.reset_index().sort_values(\"Total\"), color=\"b\", label=\"Research & Development Spend as % of Revenue\")\n",
    "\n",
    "sns.set_color_codes(\"muted\")\n",
    "sns.barplot(x=\"Selling_percent\", y=\"company\", data=plotting_s.reset_index().sort_values(\"Total\"), color=\"b\", label=\"Sales & Marketing Spend as % of Revenue\")\n",
    "\n",
    "ax.legend(ncol=2, loc=\"lower right\", frameon=False)\n",
    "ax.set(ylabel=\"\",\n",
    "       xlabel=\"Expenditure as a Percentage of Revenue\")\n",
    "\n",
    "plt.title(\"S&M vs R&D Expenditure\")\n",
    "plt.savefig(\"Top_Companies.png\", transparent=True)\n",
    "sns.despine(left=True, bottom=True)"
   ]
  },
  {
   "cell_type": "code",
   "execution_count": 830,
   "metadata": {},
   "outputs": [
    {
     "data": {
      "text/plain": [
       "<matplotlib.axes._subplots.AxesSubplot at 0x128f9a4a8>"
      ]
     },
     "execution_count": 830,
     "metadata": {},
     "output_type": "execute_result"
    },
    {
     "data": {
      "image/png": "[encoded data removed]",
      "text/plain": [
       "<Figure size 432x288 with 1 Axes>"
      ]
     },
     "metadata": {},
     "output_type": "display_data"
    }
   ],
   "source": [
    "sns.barplot()"
   ]
  },
  {
   "cell_type": "code",
   "execution_count": 691,
   "metadata": {},
   "outputs": [
    {
     "name": "stdout",
     "output_type": "stream",
     "text": [
      "company\n",
      "Everbridge, Inc.          1.083220e+08\n",
      "Instructure Inc           1.113360e+08\n",
      "Q2 Holdings, Inc.         2.009800e+08\n",
      "Liveperson Inc            2.196380e+08\n",
      "2U, Inc.                  2.443200e+08\n",
      "Ringcentral Inc           2.526290e+08\n",
      "Hubspot Inc               2.597550e+08\n",
      "Coupa Software Inc        2.838640e+08\n",
      "SPS Commerce Inc          2.983650e+08\n",
      "NEW Relic, Inc.           3.522690e+08\n",
      "Twilio Inc                4.126940e+08\n",
      "Zendesk, Inc.             4.752850e+08\n",
      "Veeva Systems Inc         9.177000e+08\n",
      "Square, Inc.              1.211362e+09\n",
      "Splunk Inc                1.718546e+09\n",
      "Workday, Inc.             3.166424e+09\n",
      "Intuit Inc                4.250000e+09\n",
      "Paylocity Holding Corp             NaN\n",
      "Servicenow, Inc.                   NaN\n",
      "Name: Assets, dtype: float64\n"
     ]
    }
   ],
   "source": [
    "# sales_percent = (plotting_s.iloc[:,0] / plotting_s.iloc[:,1]) * 100\n",
    "print(plotting_s.iloc[:,0].sort_values())"
   ]
  },
  {
   "cell_type": "code",
   "execution_count": 692,
   "metadata": {},
   "outputs": [
    {
     "name": "stdout",
     "output_type": "stream",
     "text": [
      "company\n",
      "Square, Inc.              10.175798\n",
      "Veeva Systems Inc         21.469443\n",
      "Twilio Inc                23.533633\n",
      "Q2 Holdings, Inc.         24.153264\n",
      "Paylocity Holding Corp    26.801791\n",
      "Intuit Inc                27.460588\n",
      "SPS Commerce Inc          34.085724\n",
      "Workday, Inc.             37.203479\n",
      "Liveperson Inc            40.187361\n",
      "Everbridge, Inc.          45.346537\n",
      "Servicenow, Inc.          49.572244\n",
      "Ringcentral Inc           50.693925\n",
      "Coupa Software Inc        51.251729\n",
      "Zendesk, Inc.             53.521646\n",
      "Hubspot Inc               60.024652\n",
      "Instructure Inc           63.123196\n",
      "NEW Relic, Inc.           63.824062\n",
      "Splunk Inc                68.795259\n",
      "2U, Inc.                        NaN\n",
      "dtype: float64\n"
     ]
    }
   ],
   "source": [
    "sales_percent = (plotting_s.iloc[:,2] / plotting_s.iloc[:,1]) * 100\n",
    "print(sales_percent.sort_values())"
   ]
  },
  {
   "cell_type": "code",
   "execution_count": 693,
   "metadata": {},
   "outputs": [
    {
     "name": "stdout",
     "output_type": "stream",
     "text": [
      "company\n",
      "SPS Commerce Inc          11.371737\n",
      "Paylocity Holding Corp    11.589026\n",
      "Square, Inc.              15.715673\n",
      "Hubspot Inc               16.975130\n",
      "Ringcentral Inc           17.253057\n",
      "Veeva Systems Inc         17.783521\n",
      "Liveperson Inc            18.043891\n",
      "Intuit Inc                18.768641\n",
      "Everbridge, Inc.          19.213752\n",
      "Q2 Holdings, Inc.         21.607732\n",
      "Servicenow, Inc.          21.620420\n",
      "Coupa Software Inc        22.621566\n",
      "NEW Relic, Inc.           23.172245\n",
      "Twilio Inc                28.098148\n",
      "Zendesk, Inc.             29.188235\n",
      "Splunk Inc                31.143580\n",
      "Instructure Inc           32.443182\n",
      "Workday, Inc.             43.362302\n",
      "2U, Inc.                        NaN\n",
      "dtype: float64\n"
     ]
    }
   ],
   "source": [
    "rd_percent = (plotting_s.iloc[:,3] / plotting_s.iloc[:,1]) * 100\n",
    "print(rd_percent.sort_values())"
   ]
  }
 ],
 "metadata": {
  "kernelspec": {
   "display_name": "Python 3",
   "language": "python",
   "name": "python3"
  },
  "language_info": {
   "codemirror_mode": {
    "name": "ipython",
    "version": 3
   },
   "file_extension": ".py",
   "mimetype": "text/x-python",
   "name": "python",
   "nbconvert_exporter": "python",
   "pygments_lexer": "ipython3",
   "version": "3.6.8"
  }
 },
 "nbformat": 4,
 "nbformat_minor": 4
}
